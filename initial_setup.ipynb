{
 "cells": [
  {
   "cell_type": "code",
   "execution_count": null,
   "id": "98dc8f10",
   "metadata": {},
   "outputs": [],
   "source": [
    "# pip install openai\n",
    "import openai\n",
    "import os\n",
    "\n",
    "my_api_key = os.environ.get(\"OPENAI_API_KEY\")\n",
    "print(f\"Connecting to ChatGPT session using API key:\\n'{my_api_key}'\")\n",
    "openai_session = openai.OpenAI(api_key=my_api_key)\n",
    "session_running = not openai_session.is_closed()\n",
    "print(f\"Session established: {session_running}\")"
   ]
  },
  {
   "cell_type": "code",
   "execution_count": 2,
   "id": "b4f653ff",
   "metadata": {},
   "outputs": [
    {
     "name": "stdout",
     "output_type": "stream",
     "text": [
      "File 3000gt_manual.pdf found.\n",
      "Uploaded file 3000gt_manual.pdf (ID file-NorprFaMGtH5YSz5oF1XsC)\n"
     ]
    }
   ],
   "source": [
    "local_filename = \"3000gt_manual.pdf\"\n",
    "\n",
    "if not os.path.exists(local_filename):\n",
    "    print(f\"File {local_filename} not found.\")\n",
    "    exit(1)\n",
    "\n",
    "print(f\"File {local_filename} found.\")\n",
    "\n",
    "choice = input(f\"Are you sure that you want to upload the file {local_filename}? \")\n",
    "if choice.lower().startswith('y'):\n",
    "    remote_file = openai_session.files.create(\n",
    "        file=open(local_filename, \"rb\"),\n",
    "        purpose=\"assistants\"  # this is a magic value for GPT context documents\n",
    "    )\n",
    "    print(f\"Uploaded file {local_filename} (ID {remote_file.id})\")"
   ]
  },
  {
   "cell_type": "code",
   "execution_count": 14,
   "id": "6f39b993",
   "metadata": {},
   "outputs": [
    {
     "name": "stdout",
     "output_type": "stream",
     "text": [
      "Created AI Assistant 'Samurai Car Guy' (You are a samurai mechanic who speaks with honor a...)\n"
     ]
    }
   ],
   "source": [
    "gpt_name = \"Samurai Car Guy\"\n",
    "gpt_description = \"Dylan's 3000GT car manual assistant.\"\n",
    "gpt_context = (\n",
    "    \"You are a samurai mechanic who speaks with honor and precision. \"\n",
    "    \"When asked a question, respond with the wisdom of an ancient warrior, \"\n",
    "    \"but always provide the most accurate, detailed answer from the sacred manual.\"\n",
    ")\n",
    "gpt_model = \"gpt-4o-mini\"\n",
    "\n",
    "choice = input(f\"Are you sure that you want to create a new assisstant named {gpt_name}? \")\n",
    "if choice.lower().startswith('y'):\n",
    "    assistant = openai_session.beta.assistants.create(\n",
    "        name=gpt_name,\n",
    "        description=gpt_description,\n",
    "        instructions=gpt_context,\n",
    "        model=gpt_model,\n",
    "        tools=[{\"type\": \"file_search\"}]\n",
    "    )\n",
    "    print(f\"Created AI Assistant '{assistant.name}' ({assistant.instructions[:50]}...)\")"
   ]
  },
  {
   "cell_type": "code",
   "execution_count": null,
   "id": "14d9c473",
   "metadata": {},
   "outputs": [
    {
     "data": {
      "text/plain": [
       "AssistantDeleted(id='asst_bMAw0SNGZJEivIR6sPXwqeyY', deleted=True, object='assistant.deleted')"
      ]
     },
     "execution_count": 13,
     "metadata": {},
     "output_type": "execute_result"
    }
   ],
   "source": [
    "# openai.beta.assistants.delete(\"asst_bMAw0SNGZJEivIR6sPXwqeyY\")"
   ]
  },
  {
   "cell_type": "code",
   "execution_count": 15,
   "id": "c27b8866",
   "metadata": {},
   "outputs": [
    {
     "name": "stdout",
     "output_type": "stream",
     "text": [
      "asst_zacZD9hFPv4iyyVLJDLWXb3l\n"
     ]
    }
   ],
   "source": [
    "print(assistant.id)"
   ]
  }
 ],
 "metadata": {
  "kernelspec": {
   "display_name": "mlenv",
   "language": "python",
   "name": "python3"
  },
  "language_info": {
   "codemirror_mode": {
    "name": "ipython",
    "version": 3
   },
   "file_extension": ".py",
   "mimetype": "text/x-python",
   "name": "python",
   "nbconvert_exporter": "python",
   "pygments_lexer": "ipython3",
   "version": "3.12.3"
  }
 },
 "nbformat": 4,
 "nbformat_minor": 5
}
